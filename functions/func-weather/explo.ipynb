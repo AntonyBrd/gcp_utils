{
 "cells": [
  {
   "cell_type": "code",
   "execution_count": 2,
   "metadata": {},
   "outputs": [],
   "source": [
    "import requests\n",
    "import json\n",
    "\n",
    "def get_weather_forecast(city=\"Toulouse,fr\"):\n",
    "    \"\"\"_summary_\n",
    "\n",
    "    Args:\n",
    "        city (str, optional): _description_. Defaults to \"Toulouse,fr\".\n",
    "\n",
    "    Returns:\n",
    "        _type_: _description_\n",
    "    \"\"\"\n",
    "    URL = \"https://community-open-weather-map.p.rapidapi.com/forecast\"\n",
    "\n",
    "    querystring = {\"q\": city, \"units\":\"metric\"}\n",
    "    headers = {}\n",
    "\n",
    "    with open('./weather_api_conf.json') as json_file:\n",
    "        headers = json.load(json_file)\n",
    "\n",
    "    response = requests.request(\"GET\", URL, headers=headers, params=querystring)\n",
    "\n",
    "    return json.loads(response.text)\n",
    "\n",
    "data = get_weather_forecast()"
   ]
  },
  {
   "cell_type": "code",
   "execution_count": 6,
   "metadata": {},
   "outputs": [
    {
     "data": {
      "text/plain": [
       "WeatherForcast(weather='Clouds', description='broken clouds', icon='04d', date_time=datetime.datetime(2022, 2, 20, 15, 0, tzinfo=datetime.timezone.utc), temperature=12.14, humidity=72.0, feels_like=11.29, wind_speed=6.17, lastupdate=datetime.datetime(2022, 2, 20, 13, 58, 3, 629658))"
      ]
     },
     "execution_count": 6,
     "metadata": {},
     "output_type": "execute_result"
    }
   ],
   "source": [
    "from pydantic import BaseModel\n",
    "from datetime import datetime\n",
    "\n",
    "class WeatherForcast(BaseModel):\n",
    "    weather: str\n",
    "    description: str | None = None\n",
    "    icon: str | None = None\n",
    "    date_time: datetime | None = None\n",
    "    temperature: float | None = None\n",
    "    humidity: float | None = None\n",
    "    feels_like: float | None = None\n",
    "    wind_speed: float | None = None\n",
    "    lastupdate: datetime\n",
    "\n",
    "def parse_weather_forcast(json_data):\n",
    "    return WeatherForcast(\n",
    "        weather = json_data['weather'][0]['main'],\n",
    "        description = json_data['weather'][0]['description'],\n",
    "        icon = json_data['weather'][0]['icon'],\n",
    "        date_time = json_data['dt'],\n",
    "        temperature = json_data['main']['temp'],\n",
    "        humidity = json_data['main']['humidity'],\n",
    "        feels_like = json_data['main']['feels_like'],\n",
    "        wind_speed = json_data['wind']['speed'],\n",
    "        lastupdate = datetime.now()\n",
    "    )\n",
    "    \n",
    "parse_weather_forcast(data['list'][0])\n",
    "    "
   ]
  },
  {
   "cell_type": "code",
   "execution_count": 4,
   "metadata": {},
   "outputs": [
    {
     "data": {
      "text/plain": [
       "City(name='Toulouse', country='FR', lat=43.6043, lon=1.4437, population=433055, lastupdate=datetime.datetime(2022, 2, 20, 13, 42, 4, 130543))"
      ]
     },
     "execution_count": 4,
     "metadata": {},
     "output_type": "execute_result"
    }
   ],
   "source": [
    "from pydantic import BaseModel\n",
    "from datetime import datetime\n",
    "\n",
    "class City(BaseModel):\n",
    "    name: str\n",
    "    country: str | None = None\n",
    "    lat: float | None = None\n",
    "    lon: float | None = None\n",
    "    population: int | None = None\n",
    "    lastupdate: datetime\n",
    "\n",
    "def parse_city(json_data):\n",
    "    return City(\n",
    "        name = json_data['name'],\n",
    "        country = json_data['country'],\n",
    "        population = json_data['population'],\n",
    "        lat = json_data['coord']['lat'],\n",
    "        lon = json_data['coord']['lon'],\n",
    "        lastupdate = datetime.now()\n",
    "    )\n",
    "\n",
    "city = parse_city(data['city'])\n",
    "city"
   ]
  }
 ],
 "metadata": {
  "interpreter": {
   "hash": "8510e6087b3c3ffe34cbb9b76ed1a82ce4aed444ed3de05efede5e737d3ce4a2"
  },
  "kernelspec": {
   "display_name": "Python 3.7.4 64-bit ('func': venv)",
   "name": "python3"
  },
  "language_info": {
   "codemirror_mode": {
    "name": "ipython",
    "version": 3
   },
   "file_extension": ".py",
   "mimetype": "text/x-python",
   "name": "python",
   "nbconvert_exporter": "python",
   "pygments_lexer": "ipython3",
   "version": "3.10.0"
  },
  "orig_nbformat": 4
 },
 "nbformat": 4,
 "nbformat_minor": 2
}
